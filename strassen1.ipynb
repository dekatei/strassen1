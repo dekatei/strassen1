{
 "cells": [
  {
   "cell_type": "code",
   "execution_count": 1,
   "metadata": {},
   "outputs": [],
   "source": [
    "import time\n",
    "import numpy as np\n",
    "import matplotlib.pyplot as plt\n",
    "import random"
   ]
  },
  {
   "cell_type": "code",
   "execution_count": 2,
   "metadata": {},
   "outputs": [],
   "source": [
    "def matr(n):\n",
    "    return np.random.randint(10, size= (n, n))\n",
    "k= 3\n",
    "def product(A,B):\n",
    "    n = len(A)\n",
    "    matr3=np.zeros((n,n))\n",
    "    i=0\n",
    "    while i<n:\n",
    "        j= 0\n",
    "        while j < n:\n",
    "            matr3[i][j] =np.sum( A[i,:]* B[:,j])\n",
    "            j=j+1\n",
    "        i=i+1\n",
    "    return matr3"
   ]
  },
  {
   "cell_type": "code",
   "execution_count": 14,
   "metadata": {},
   "outputs": [],
   "source": [
    "b = 10\n",
    "t=[]\n",
    "nn=[]\n",
    "pp = []\n",
    "maxx =[]\n",
    "for k in  (16,32,64,128,256,300,400,512,600,650,800,1024):\n",
    "    start = 0\n",
    "    end = 0\n",
    "    t=[]\n",
    "    for _ in range (b):\n",
    "        start = time.time()\n",
    "        product(matr(k),matr(k))   \n",
    "        end = time.time()\n",
    "        t.append(end-start)\n",
    "    s = max(t)\n",
    "    maxx.append(s) #максимальное время выполнения \n",
    "    pp.append(sum (t)/b) #среднее время выполнения\n",
    "    nn.append(k)"
   ]
  },
  {
   "cell_type": "code",
   "execution_count": 16,
   "metadata": {},
   "outputs": [
    {
     "name": "stdout",
     "output_type": "stream",
     "text": [
      "12.581709861755371\n"
     ]
    }
   ],
   "source": [
    "start = time.time()\n",
    "product(matr(1024),matr(1024))   \n",
    "end = time.time()\n",
    "print(end - start)"
   ]
  },
  {
   "cell_type": "code",
   "execution_count": 15,
   "metadata": {},
   "outputs": [
    {
     "data": {
      "image/png": "[encoded data removed]",
      "text/plain": [
       "<Figure size 432x288 with 1 Axes>"
      ]
     },
     "metadata": {
      "needs_background": "light"
     },
     "output_type": "display_data"
    }
   ],
   "source": [
    "plt.plot(nn, maxx)\n",
    "plt.plot(nn,pp)\n",
    "plt.xlabel('n')\n",
    "plt.ylabel('t')\n",
    "plt.grid()\n",
    "plt.show()"
   ]
  },
  {
   "cell_type": "code",
   "execution_count": null,
   "metadata": {},
   "outputs": [],
   "source": [
    "# ^^ слишком быстро из-за numpy"
   ]
  },
  {
   "cell_type": "code",
   "execution_count": 17,
   "metadata": {},
   "outputs": [],
   "source": [
    " def product2(A,B):\n",
    "    n = len(A)\n",
    "    matr3=np.zeros((n,n))\n",
    "    i=0\n",
    "    while i<n:\n",
    "        j= 0\n",
    "        while j < n:\n",
    "            l=0\n",
    "            while l < n:\n",
    "                matr3[i][j] += A[i][l] * B[l][j]\n",
    "                l = l+1\n",
    "            j=j+1\n",
    "        i=i+1\n",
    "    return matr3\n"
   ]
  },
  {
   "cell_type": "code",
   "execution_count": 18,
   "metadata": {},
   "outputs": [
    {
     "name": "stdout",
     "output_type": "stream",
     "text": [
      "1179.7890980243683\n"
     ]
    }
   ],
   "source": [
    "\n",
    "start = time.time()\n",
    "product2(matr(1024),matr(1024))   \n",
    "end = time.time()\n",
    "print(end - start)"
   ]
  },
  {
   "cell_type": "code",
   "execution_count": 19,
   "metadata": {},
   "outputs": [],
   "source": [
    "b = 10\n",
    "t=[]\n",
    "nn=[]\n",
    "pp = []\n",
    "maxx =[]\n",
    "for k in  (16,32,64,128,256,300,400,512,600,650,800,1024):\n",
    "    start = 0\n",
    "    end = 0\n",
    "    t=[]\n",
    "    for _ in range (b):\n",
    "        start = time.time()\n",
    "        product2(matr(k),matr(k))   \n",
    "        end = time.time()\n",
    "        t.append(end-start)\n",
    "    s = max(t)\n",
    "    maxx.append(s) #максимальное время выполнения \n",
    "    pp.append(sum (t)/b) #среднее время выполнения\n",
    "    nn.append(k)\n",
    "    "
   ]
  },
  {
   "cell_type": "code",
   "execution_count": 21,
   "metadata": {},
   "outputs": [
    {
     "data": {
      "image/png": "[encoded data removed]",
      "text/plain": [
       "<Figure size 432x288 with 1 Axes>"
      ]
     },
     "metadata": {
      "needs_background": "light"
     },
     "output_type": "display_data"
    }
   ],
   "source": [
    "#plt.plot(nn, maxx)\n",
    "plt.plot(nn,pp)\n",
    "plt.xlabel('n')\n",
    "plt.ylabel('t')\n",
    "plt.grid()\n",
    "plt.show()"
   ]
  },
  {
   "cell_type": "code",
   "execution_count": null,
   "metadata": {},
   "outputs": [],
   "source": [
    "# ^^ очень долго считалось"
   ]
  },
  {
   "cell_type": "code",
   "execution_count": 4,
   "metadata": {},
   "outputs": [],
   "source": [
    "#проверка размера матрицы\n",
    "def check2rec(num):\n",
    "    if num == 1:\n",
    "        return True\n",
    "    if num & 1:\n",
    "        return False\n",
    "    return check2rec(num >> 1)\n",
    "check2rec(16)\n",
    "def st2(x):\n",
    "    y=1\n",
    "    while y< x:\n",
    "        y=2*y\n",
    "    return y  \n"
   ]
  },
  {
   "cell_type": "code",
   "execution_count": 5,
   "metadata": {},
   "outputs": [],
   "source": [
    "#дополнение матрицы до размера 2**N\n",
    "def zero(matr1,matr2):\n",
    "    k = len((matr1))\n",
    "    if not check2rec(k):\n",
    "        matr1 =np.pad(matr1, (0, st2(k)-k))\n",
    "        matr2 =np.pad(matr2, (0, st2(k)-k))\n",
    "   # print (matr1)\n",
    "    return (matr1,matr2)\n",
    "#zero(matr(10), matr(10))\n"
   ]
  },
  {
   "cell_type": "code",
   "execution_count": 6,
   "metadata": {},
   "outputs": [],
   "source": [
    "def Strassen(matr1, matr2):\n",
    "    a11=matr1[0,0]\n",
    "    a12=matr1[0,1]\n",
    "    a21=matr1[1,0]\n",
    "    a22=matr1[1,1]\n",
    "    b11=matr2[0,0]\n",
    "    b12=matr2[0,1]\n",
    "    b21=matr2[1,0]\n",
    "    b22=matr2[1,1]\n",
    "    p1 = (a11+a22) * (b11+b22)\n",
    "    p2 = (a21+a22) * (b11)\n",
    "    p3 = (a11) * (b12 - b22)\n",
    "    p4 = (a22) * (b21 - b11)\n",
    "    p5 = (a11+a12) * (b22)   \n",
    "    p6 = (a21-a11) * (b11+b12)\n",
    "    p7 = (a12-a22) * (b21+b22)\n",
    "    return np.array(([p1 + p4 - p5 + p7,p3 + p5],[p2+p4,p1 + p3 - p2 + p6]))\n",
    "\n",
    "#Strassen(matr(2),matr(2))   \n",
    "def strassen(matr1, matr2):\n",
    "    matr1, matr2 = zero(matr1,matr2)\n",
    "    \n",
    "    if len(matr1)==2:\n",
    "        return Strassen(matr1, matr2)     \n",
    "    else:\n",
    "        k = len(matr1)//2\n",
    "        a11 = matr1[:k,:k]\n",
    "        a12 = matr1[:k,k:]\n",
    "        a21 = matr1[k:,:k]\n",
    "        a22 = matr1[k:,k:]\n",
    "        b11 = matr2[:k,:k]\n",
    "        b12 = matr2[:k,k:]\n",
    "        b21 = matr2[k:,:k]\n",
    "        b22 = matr2[k:,k:]\n",
    "        p1= (strassen((a11+a22),(b11+b22)))\n",
    "        p2 = (strassen((a21+a22),(b11)))\n",
    "        p3 = (strassen((a11),(b12 - b22)))\n",
    "        p4 = (strassen((a22),(b21 - b11)))\n",
    "        p5 = (strassen((a11+a12),(b22))) \n",
    "        p6 = (strassen((a21-a11),(b11+b12)))\n",
    "        p7 = (strassen((a12-a22),(b21+b22)))\n",
    "        #print(np.array([[p1 + p4 - p5 + p7,p3 + p5],[p2+p4,p1 + p3 - p2 + p6]]))\n",
    "        return np.array(([p1 + p4 - p5 + p7,p3 + p5],[p2+p4,p1 + p3 - p2 + p6]))\n",
    "#print(matr(8))\n",
    "#G=matr(3)\n",
    "#F=matr(3)\n",
    "#print(F,G)\n",
    "#print('d',strassen(F,G))\n",
    "\n",
    "#product(F,G)\n"
   ]
  },
  {
   "cell_type": "code",
   "execution_count": 10,
   "metadata": {},
   "outputs": [],
   "source": [
    "b = 10\n",
    "t=[]\n",
    "n=[]\n",
    "p = []\n",
    "maks =[]\n",
    "for k in (16,32,64,128,256,512,1024):\n",
    "    start = 0\n",
    "    end = 0\n",
    "    t=[]\n",
    "    for _ in range (b):\n",
    "        start = time.time()\n",
    "        strassen(matr(k),matr(k))   \n",
    "        end = time.time()\n",
    "        t.append(end-start)\n",
    "    s = max(t)\n",
    "    maks.append(s) #максимальное время выполнения \n",
    "    p.append(sum (t)/b) #среднее время выполнения\n",
    "    n.append(k)"
   ]
  },
  {
   "cell_type": "code",
   "execution_count": 22,
   "metadata": {},
   "outputs": [
    {
     "data": {
      "image/png": "[encoded data removed]",
      "text/plain": [
       "<Figure size 432x288 with 1 Axes>"
      ]
     },
     "metadata": {
      "needs_background": "light"
     },
     "output_type": "display_data"
    }
   ],
   "source": [
    "#plt.plot(n, maks)\n",
    "plt.plot(n,p)\n",
    "plt.xlabel('n')\n",
    "plt.ylabel('t')\n",
    "plt.grid()\n",
    "plt.show()"
   ]
  },
  {
   "cell_type": "code",
   "execution_count": 12,
   "metadata": {},
   "outputs": [],
   "source": [
    "b = 1\n",
    "t=[]\n",
    "n=[]\n",
    "p = []\n",
    "maks =[]\n",
    "for k in (16,32,64,128,256,300,400,512,600,650,800,1024):\n",
    "    start = 0\n",
    "    end = 0\n",
    "    t=[]\n",
    "    for _ in range (b):\n",
    "        start = time.time()\n",
    "        strassen(matr(k),matr(k))   \n",
    "        end = time.time()\n",
    "        t.append(end-start)\n",
    "    s = max(t)\n",
    "    maks.append(s) #максимальное время выполнения \n",
    "    p.append(sum (t)/b) #среднее время выполнения\n",
    "    n.append(k)"
   ]
  },
  {
   "cell_type": "code",
   "execution_count": 23,
   "metadata": {},
   "outputs": [
    {
     "data": {
      "image/png": "[encoded data removed]",
      "text/plain": [
       "<Figure size 432x288 with 1 Axes>"
      ]
     },
     "metadata": {
      "needs_background": "light"
     },
     "output_type": "display_data"
    }
   ],
   "source": [
    "#plt.plot(n, maks)\n",
    "plt.plot(n,p)\n",
    "plt.xlabel('n')\n",
    "plt.ylabel('t')\n",
    "plt.grid()\n",
    "plt.show()"
   ]
  },
  {
   "cell_type": "code",
   "execution_count": null,
   "metadata": {},
   "outputs": [],
   "source": [
    "# ^^ 600, 650, 800 считается дольше из-за того, что нужно добавлять нули:(("
   ]
  },
  {
   "cell_type": "code",
   "execution_count": 7,
   "metadata": {},
   "outputs": [
    {
     "name": "stdout",
     "output_type": "stream",
     "text": [
      "488.7634379863739\n"
     ]
    }
   ],
   "source": [
    "start = 0\n",
    "end = 0\n",
    "start = time.time()\n",
    "strassen(matr(1024),matr(1024))   \n",
    "end = time.time()\n",
    "print(end - start)"
   ]
  },
  {
   "cell_type": "code",
   "execution_count": null,
   "metadata": {},
   "outputs": [],
   "source": []
  },
  {
   "cell_type": "code",
   "execution_count": null,
   "metadata": {},
   "outputs": [],
   "source": []
  }
 ],
 "metadata": {
  "kernelspec": {
   "display_name": "Python 3",
   "language": "python",
   "name": "python3"
  },
  "language_info": {
   "codemirror_mode": {
    "name": "ipython",
    "version": 3
   },
   "file_extension": ".py",
   "mimetype": "text/x-python",
   "name": "python",
   "nbconvert_exporter": "python",
   "pygments_lexer": "ipython3",
   "version": "3.7.4"
  }
 },
 "nbformat": 4,
 "nbformat_minor": 4
}
